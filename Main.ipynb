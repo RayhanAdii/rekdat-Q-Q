{
 "cells": [
  {
   "cell_type": "markdown",
   "id": "9782ffd4-cfb0-4556-a600-ed70a1ea0071",
   "metadata": {},
   "source": [
    "# Tugas 1 Mata Kuliah Rekayasa Data: Q-Q Plot"
   ]
  },
  {
   "cell_type": "markdown",
   "id": "7023e030-7ca6-4e18-b246-54a359d2dc87",
   "metadata": {},
   "source": [
    "### Nama: Rayhan Adi Wicaksono\n",
    "### NIM:  21/477186/TK/52550"
   ]
  },
  {
   "cell_type": "markdown",
   "id": "25338135-90e2-4189-b346-ec95f3a01917",
   "metadata": {},
   "source": [
    "================================================================================================================="
   ]
  },
  {
   "cell_type": "markdown",
   "id": "5399573b-440c-472f-8251-39e3ac77e64a",
   "metadata": {},
   "source": [
    "## Pendahuluan"
   ]
  },
  {
   "cell_type": "markdown",
   "id": "82db2c40-ef99-46bd-99b0-11b24cec236a",
   "metadata": {},
   "source": [
    "Q-Q plot (Quantile-Quantile Plot) merupakan salah satu teknik statistika yang digunakan untuk mengetahui apakah suatu set data mengikuti suatu theoritical distribution seperti Normal distribution atau Uniform distribution. Selain itu, Q-Q plot juga dapat digunakan untuk mengetahui apakah dua set data memiliki distribusi yang serupa.\n",
    "\n",
    "Q-Q plot dilihat dengan cara plotting Quantile dari dua set data atau antara satu set data dengan theoritical distribution. Ketika hasil plot dari dua set data membentuk atau mendekati garis lurus 45 derajat dari sumbu x, maka hal tersebut menandakan bahwa dua set data tersebut memiliki distribusi yang serupa. Adapun ketika hasil plot tidak membentuk garis lurus, tetapi membentuk lengkungan, maka hal tersebut menandakan bahwa Quantiles dari salah satu set data lebih kecil dari set data yang lainnya. Hal tersebut menandakan bahwa nilai dari salah satu set data yang Quantiles-nya lebih kecil cenderung lebih kecil dari set data lainnya."
   ]
  },
  {
   "cell_type": "markdown",
   "id": "07556e13-09df-43de-9963-c909c5d32ef1",
   "metadata": {},
   "source": [
    "## Penjelasan dan Import Dataset"
   ]
  },
  {
   "cell_type": "markdown",
   "id": "4f71ff8c-734d-4ba0-b2f9-582121b799bf",
   "metadata": {},
   "source": [
    "Pada penugasan kali ini, saya menggunakan dataset Abalone yang berisikan feature berupa ukuran fisik Abalone. Dataset yang digunakan bersumber dari link berikut.\n",
    "\n",
    "https://archive.ics.uci.edu/dataset/1/abalone"
   ]
  },
  {
   "cell_type": "code",
   "execution_count": 1,
   "id": "4e7b21b1-d5fd-4591-bb55-2f6ae118757b",
   "metadata": {},
   "outputs": [],
   "source": [
    "import pandas as pd\n",
    "import matplotlib.pyplot as plt"
   ]
  },
  {
   "cell_type": "code",
   "execution_count": 2,
   "id": "f28a011e-50ec-4abc-8a49-a58e722afdfe",
   "metadata": {},
   "outputs": [],
   "source": [
    "df = pd.read_csv('./abalone.csv')"
   ]
  },
  {
   "cell_type": "code",
   "execution_count": 3,
   "id": "c751ccc6-5a39-4cf7-aadf-4fe91ae86b11",
   "metadata": {
    "scrolled": true
   },
   "outputs": [
    {
     "data": {
      "text/html": [
       "<div>\n",
       "<style scoped>\n",
       "    .dataframe tbody tr th:only-of-type {\n",
       "        vertical-align: middle;\n",
       "    }\n",
       "\n",
       "    .dataframe tbody tr th {\n",
       "        vertical-align: top;\n",
       "    }\n",
       "\n",
       "    .dataframe thead th {\n",
       "        text-align: right;\n",
       "    }\n",
       "</style>\n",
       "<table border=\"1\" class=\"dataframe\">\n",
       "  <thead>\n",
       "    <tr style=\"text-align: right;\">\n",
       "      <th></th>\n",
       "      <th>Sex</th>\n",
       "      <th>Length</th>\n",
       "      <th>Diameter</th>\n",
       "      <th>Height</th>\n",
       "      <th>Whole weight</th>\n",
       "      <th>Shucked weight</th>\n",
       "      <th>Viscera weight</th>\n",
       "      <th>Shell weight</th>\n",
       "      <th>Rings</th>\n",
       "    </tr>\n",
       "  </thead>\n",
       "  <tbody>\n",
       "    <tr>\n",
       "      <th>0</th>\n",
       "      <td>M</td>\n",
       "      <td>0.455</td>\n",
       "      <td>0.365</td>\n",
       "      <td>0.095</td>\n",
       "      <td>0.5140</td>\n",
       "      <td>0.2245</td>\n",
       "      <td>0.1010</td>\n",
       "      <td>0.150</td>\n",
       "      <td>15</td>\n",
       "    </tr>\n",
       "    <tr>\n",
       "      <th>1</th>\n",
       "      <td>M</td>\n",
       "      <td>0.350</td>\n",
       "      <td>0.265</td>\n",
       "      <td>0.090</td>\n",
       "      <td>0.2255</td>\n",
       "      <td>0.0995</td>\n",
       "      <td>0.0485</td>\n",
       "      <td>0.070</td>\n",
       "      <td>7</td>\n",
       "    </tr>\n",
       "    <tr>\n",
       "      <th>2</th>\n",
       "      <td>F</td>\n",
       "      <td>0.530</td>\n",
       "      <td>0.420</td>\n",
       "      <td>0.135</td>\n",
       "      <td>0.6770</td>\n",
       "      <td>0.2565</td>\n",
       "      <td>0.1415</td>\n",
       "      <td>0.210</td>\n",
       "      <td>9</td>\n",
       "    </tr>\n",
       "    <tr>\n",
       "      <th>3</th>\n",
       "      <td>M</td>\n",
       "      <td>0.440</td>\n",
       "      <td>0.365</td>\n",
       "      <td>0.125</td>\n",
       "      <td>0.5160</td>\n",
       "      <td>0.2155</td>\n",
       "      <td>0.1140</td>\n",
       "      <td>0.155</td>\n",
       "      <td>10</td>\n",
       "    </tr>\n",
       "    <tr>\n",
       "      <th>4</th>\n",
       "      <td>I</td>\n",
       "      <td>0.330</td>\n",
       "      <td>0.255</td>\n",
       "      <td>0.080</td>\n",
       "      <td>0.2050</td>\n",
       "      <td>0.0895</td>\n",
       "      <td>0.0395</td>\n",
       "      <td>0.055</td>\n",
       "      <td>7</td>\n",
       "    </tr>\n",
       "  </tbody>\n",
       "</table>\n",
       "</div>"
      ],
      "text/plain": [
       "  Sex  Length  Diameter  Height  Whole weight  Shucked weight  Viscera weight  \\\n",
       "0   M   0.455     0.365   0.095        0.5140          0.2245          0.1010   \n",
       "1   M   0.350     0.265   0.090        0.2255          0.0995          0.0485   \n",
       "2   F   0.530     0.420   0.135        0.6770          0.2565          0.1415   \n",
       "3   M   0.440     0.365   0.125        0.5160          0.2155          0.1140   \n",
       "4   I   0.330     0.255   0.080        0.2050          0.0895          0.0395   \n",
       "\n",
       "   Shell weight  Rings  \n",
       "0         0.150     15  \n",
       "1         0.070      7  \n",
       "2         0.210      9  \n",
       "3         0.155     10  \n",
       "4         0.055      7  "
      ]
     },
     "execution_count": 3,
     "metadata": {},
     "output_type": "execute_result"
    }
   ],
   "source": [
    "df.head()"
   ]
  },
  {
   "cell_type": "markdown",
   "id": "09a7cbc1-2368-4b9f-b94a-4131a122672d",
   "metadata": {},
   "source": [
    "Pada Penugasan kali ini, saya akan memilih dua feature dari dataset tersebut untuk diuji apakah kedua feature tersebut memiliki distribusi yang serupa. Disini saya akan memilih feature **Length** dan **Whole weight** untuk diuji."
   ]
  },
  {
   "cell_type": "code",
   "execution_count": 23,
   "id": "05e9c517-9424-4e43-b10f-af813d09c55a",
   "metadata": {},
   "outputs": [
    {
     "data": {
      "text/html": [
       "<div>\n",
       "<style scoped>\n",
       "    .dataframe tbody tr th:only-of-type {\n",
       "        vertical-align: middle;\n",
       "    }\n",
       "\n",
       "    .dataframe tbody tr th {\n",
       "        vertical-align: top;\n",
       "    }\n",
       "\n",
       "    .dataframe thead th {\n",
       "        text-align: right;\n",
       "    }\n",
       "</style>\n",
       "<table border=\"1\" class=\"dataframe\">\n",
       "  <thead>\n",
       "    <tr style=\"text-align: right;\">\n",
       "      <th></th>\n",
       "      <th>Length</th>\n",
       "      <th>Whole weight</th>\n",
       "    </tr>\n",
       "  </thead>\n",
       "  <tbody>\n",
       "    <tr>\n",
       "      <th>0</th>\n",
       "      <td>0.455</td>\n",
       "      <td>0.5140</td>\n",
       "    </tr>\n",
       "    <tr>\n",
       "      <th>1</th>\n",
       "      <td>0.350</td>\n",
       "      <td>0.2255</td>\n",
       "    </tr>\n",
       "    <tr>\n",
       "      <th>2</th>\n",
       "      <td>0.530</td>\n",
       "      <td>0.6770</td>\n",
       "    </tr>\n",
       "    <tr>\n",
       "      <th>3</th>\n",
       "      <td>0.440</td>\n",
       "      <td>0.5160</td>\n",
       "    </tr>\n",
       "    <tr>\n",
       "      <th>4</th>\n",
       "      <td>0.330</td>\n",
       "      <td>0.2050</td>\n",
       "    </tr>\n",
       "  </tbody>\n",
       "</table>\n",
       "</div>"
      ],
      "text/plain": [
       "   Length  Whole weight\n",
       "0   0.455        0.5140\n",
       "1   0.350        0.2255\n",
       "2   0.530        0.6770\n",
       "3   0.440        0.5160\n",
       "4   0.330        0.2050"
      ]
     },
     "execution_count": 23,
     "metadata": {},
     "output_type": "execute_result"
    }
   ],
   "source": [
    "df = df[['Length','Whole weight']]\n",
    "df.head()"
   ]
  },
  {
   "cell_type": "markdown",
   "id": "0067d86a-7934-4b37-adde-9764bc8045d0",
   "metadata": {},
   "source": [
    "## Pembuatan Q-Q Plot dan Analisis"
   ]
  },
  {
   "cell_type": "markdown",
   "id": "f58fd4a1-9cbe-4217-b880-abfde23b295d",
   "metadata": {},
   "source": [
    "Selanjutnya, kedua feature yang dipilih akan dibandingkan satu sama lain pada Q-Q Plot. Pada penugasan ini, digunakan bantuan library statsmodels untuk membuat Q-Q plot."
   ]
  },
  {
   "cell_type": "code",
   "execution_count": 6,
   "id": "fa5721de-5169-4208-a9d7-9b43db8ca0f5",
   "metadata": {},
   "outputs": [
    {
     "data": {
      "image/png": "[encoded data removed]",
      "text/plain": [
       "<Figure size 640x480 with 1 Axes>"
      ]
     },
     "metadata": {},
     "output_type": "display_data"
    }
   ],
   "source": [
    "import statsmodels.api as sm\n",
    "\n",
    "# Membuat Q-Q Plot dengan garis 45 derajat sebagai acuan\n",
    "sm.qqplot_2samples(df['Length'], df['Whole weight'], line='45')\n",
    "plt.xlabel('Quantiles of Length')\n",
    "plt.ylabel('Quantiles of Whole weight')\n",
    "plt.title('Q-Q Plot Between Length and Whole weight')\n",
    "plt.show()"
   ]
  },
  {
   "cell_type": "markdown",
   "id": "96f22349-6a96-4bbd-88d1-584a673f4674",
   "metadata": {},
   "source": [
    "Berdasarkan hasil plot tersebut, dapat dilihat bahwa plot tidak membentuk garis lurus, melainkan membentuk lengkungan. Hal ini menunjukkan bahwa Quantiles dari Feature Length bernilai lebih kecil dari Quantiles Feature Whole weight. Hal tersebut juga menandakan bahwa distribusi dari kedua feature tersebut tidaklah sama."
   ]
  }
 ],
 "metadata": {
  "kernelspec": {
   "display_name": "Python 3 (ipykernel)",
   "language": "python",
   "name": "python3"
  },
  "language_info": {
   "codemirror_mode": {
    "name": "ipython",
    "version": 3
   },
   "file_extension": ".py",
   "mimetype": "text/x-python",
   "name": "python",
   "nbconvert_exporter": "python",
   "pygments_lexer": "ipython3",
   "version": "3.10.0"
  }
 },
 "nbformat": 4,
 "nbformat_minor": 5
}
